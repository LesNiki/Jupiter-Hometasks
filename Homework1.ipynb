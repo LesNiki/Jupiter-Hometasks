{
 "cells": [
  {
   "cell_type": "markdown",
   "id": "6f8407dd",
   "metadata": {},
   "source": [
    "## Задача 1.\n",
    "На складе лежат разные фрукты в разном количестве.\n",
    "Нужно написать функцию, которая на вход принимает любое количество названий фруктов и их количество, а возвращает\n",
    "общее количество фруктов на складе. "
   ]
  },
  {
   "cell_type": "code",
   "execution_count": 11,
   "id": "f158ed3b",
   "metadata": {},
   "outputs": [
    {
     "data": {
      "text/plain": [
       "25"
      ]
     },
     "execution_count": 11,
     "metadata": {},
     "output_type": "execute_result"
    }
   ],
   "source": [
    "def TotalFruits(**kwargs):\n",
    "    total_fruits = sum(kwargs.values())\n",
    "    return total_fruits\n",
    "        \n",
    "TotalFruits(banana=10, mango = 7, apple = 8)"
   ]
  },
  {
   "cell_type": "markdown",
   "id": "3d4c58bc",
   "metadata": {},
   "source": [
    "## Задача 2.\n",
    "Дан список с затратами на рекламу. Но в данных есть ошибки, некоторые затраты имеют отрицательную величину. Удалите\n",
    "такие значения из списка и посчитайте суммарные затраты\n",
    "[100, 125, -90, 345, 655, -1, 0, 200]"
   ]
  },
  {
   "cell_type": "code",
   "execution_count": 44,
   "id": "d60427ca",
   "metadata": {},
   "outputs": [],
   "source": [
    "costs = [100, 125, -90, 345, 655, -1, 0, 200]"
   ]
  },
  {
   "cell_type": "code",
   "execution_count": 45,
   "id": "bf25cadb",
   "metadata": {},
   "outputs": [
    {
     "name": "stdout",
     "output_type": "stream",
     "text": [
      "1425\n"
     ]
    }
   ],
   "source": [
    "def PosCosts(costs: list):\n",
    "    sum_costs = sum([i for i in costs if i >= 0])\n",
    "    print(sum_costs)\n",
    "PosCosts(costs)"
   ]
  },
  {
   "cell_type": "markdown",
   "id": "3d0cf504",
   "metadata": {},
   "source": [
    "## Задача 3.\n",
    "Даны два списка.\n",
    "- Дата покупки\n",
    "['2021-09-14', '2021-12-15', '2021-09-08', '2021-12-05', '2021-10-09', '2021-09-30', '2021-12-22', '2021-11-29', '2021-12-24', '2021-11-26', '2021-10-27', '2021-12-18', '2021-11-09', '2021-11-23', '2021-09-27',\n",
    "'2021-10-02', '2021-12-27', '2021-09-20', '2021-12-13', '2021-11-01', '2021-11-09', '2021-12-06', '2021-12-08', '2021-10-09', '2021-10-31', '2021-09-30', '2021-11-09', '2021-12-13', '2021-10-26', '2021-12-09']\n",
    "\n",
    "- Суммы покупок по датам\n",
    "[1270, 8413, 9028, 3703, 5739, 4095, 295, 4944, 5723, 3701, 4471, 651, 7037, 4274, 6275, 4988, 6930, 2971, 6592, 2004, 2822, 519, 3406, 2732, 5015, 2008, 316, 6333, 5700, 2887]"
   ]
  },
  {
   "cell_type": "markdown",
   "id": "06b330f0",
   "metadata": {},
   "source": [
    "### 3.1 Найдите какая выручка у компании в ноябре, используя list comprehensions"
   ]
  },
  {
   "cell_type": "code",
   "execution_count": 42,
   "id": "2bf49895",
   "metadata": {},
   "outputs": [],
   "source": [
    "date = ['2021-09-14', '2021-12-15', '2021-09-08', '2021-12-05', '2021-10-09', '2021-09-30', '2021-12-22', \n",
    "        '2021-11-29', '2021-12-24', '2021-11-26', '2021-10-27', '2021-12-18', '2021-11-09', '2021-11-23', \n",
    "        '2021-09-27', '2021-10-02', '2021-12-27', '2021-09-20', '2021-12-13', '2021-11-01', '2021-11-09', \n",
    "        '2021-12-06', '2021-12-08', '2021-10-09', '2021-10-31', '2021-09-30', '2021-11-09', '2021-12-13', \n",
    "        '2021-10-26', '2021-12-09']\n",
    "purchase = [1270, 8413, 9028, 3703, 5739, 4095, 295, 4944, 5723, 3701, 4471, 651, 7037, 4274, 6275, 4988, \n",
    "            6930, 2971, 6592, 2004, 2822, 519, 3406, 2732, 5015, 2008, 316, 6333, 5700, 2887]"
   ]
  },
  {
   "cell_type": "code",
   "execution_count": 36,
   "id": "404de337",
   "metadata": {},
   "outputs": [
    {
     "name": "stdout",
     "output_type": "stream",
     "text": [
      "[4944, 3701, 7037, 4274, 2004, 2822, 316]\n",
      "25098\n"
     ]
    }
   ],
   "source": [
    "def GetMonth(keys: list, values: list) -> dict:\n",
    "    new_list = [purchase[i] for i in range(len(keys)) if '-11-' in date[i]]\n",
    "    print(new_list)\n",
    "    print(sum(new_list))\n",
    "\n",
    "GetMonth(date, purchase)"
   ]
  },
  {
   "cell_type": "markdown",
   "id": "5a5e68e8",
   "metadata": {},
   "source": [
    "### 3.2 Найдите выручку компании в зависимости от месяца\n",
    "Для этого напишите функцию, которая на вход принимает список с датами и список с выручкой, а на выходе словарь, где\n",
    "ключи - это месяцы, а значения - это выручка.\n"
   ]
  },
  {
   "cell_type": "code",
   "execution_count": 46,
   "id": "41145493",
   "metadata": {},
   "outputs": [
    {
     "data": {
      "text/plain": [
       "{'09': 25647, '12': 45452, '10': 28645, '11': 25098}"
      ]
     },
     "execution_count": 46,
     "metadata": {},
     "output_type": "execute_result"
    }
   ],
   "source": [
    "def GetProfit(keys: list, values: list) -> dict:\n",
    "    profits = {}\n",
    "    \n",
    "    for i in range(len(keys)):\n",
    "        if date[i].split('-')[1] in profits.keys():\n",
    "            profits[date[i].split('-')[1]] += purchase[i]\n",
    "        else:\n",
    "            profits[date[i].split('-')[1]] = purchase[i]\n",
    "         \n",
    "    return profits\n",
    "\n",
    "GetProfit(date, purchase)"
   ]
  }
 ],
 "metadata": {
  "kernelspec": {
   "display_name": "Python 3 (ipykernel)",
   "language": "python",
   "name": "python3"
  },
  "language_info": {
   "codemirror_mode": {
    "name": "ipython",
    "version": 3
   },
   "file_extension": ".py",
   "mimetype": "text/x-python",
   "name": "python",
   "nbconvert_exporter": "python",
   "pygments_lexer": "ipython3",
   "version": "3.10.9"
  }
 },
 "nbformat": 4,
 "nbformat_minor": 5
}
